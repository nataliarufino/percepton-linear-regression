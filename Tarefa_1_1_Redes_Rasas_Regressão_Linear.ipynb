{
  "nbformat": 4,
  "nbformat_minor": 0,
  "metadata": {
    "colab": {
      "provenance": [],
      "authorship_tag": "ABX9TyNRhRm2pxAHVBXLqFu1QSOO",
      "include_colab_link": true
    },
    "kernelspec": {
      "name": "python3",
      "display_name": "Python 3"
    },
    "language_info": {
      "name": "python"
    }
  },
  "cells": [
    {
      "cell_type": "markdown",
      "metadata": {
        "id": "view-in-github",
        "colab_type": "text"
      },
      "source": [
        "<a href=\"https://colab.research.google.com/github/nataliarufino/perceptron-linear-regression/blob/main/Tarefa_1_1_Redes_Rasas_Regress%C3%A3o_Linear.ipynb\" target=\"_parent\"><img src=\"https://colab.research.google.com/assets/colab-badge.svg\" alt=\"Open In Colab\"/></a>"
      ]
    },
    {
      "cell_type": "markdown",
      "source": [
        "## Tarefa Prática 1.1: Perceptron e Adaline  \n",
        "\n",
        "### Regressão Linear:\n",
        "\n",
        "* Ler o banco de dados hospital.xls\n",
        "* Usar as características: sexo, idade peso, fumante/não fumante\n",
        "* Fazer a previsão de pressão /máxima\n",
        "* Utilizar validação cruzada de 5 pastas\n",
        "* Calcular o erro médio quadrático e coeficiente de pearson para cada pasta\n",
        "* Determinar o valor médio do coeficiente de Pearson e do erro médio quadrático\n",
        "\n",
        "**Discente**\n",
        "Natália de Sousa Rufino - 21951544"
      ],
      "metadata": {
        "id": "Dsryd3iEKQzk"
      }
    },
    {
      "cell_type": "markdown",
      "source": [
        "### Passos para a solução\n",
        "1. Preparar os dados\n",
        "2. Construir o modelo\n",
        "3. Treinar o modelo\n",
        "4. Avaliar o modelo"
      ],
      "metadata": {
        "id": "0_QKJJfJhke9"
      }
    },
    {
      "cell_type": "markdown",
      "source": [
        "# Importing Libraries\n",
        "\n",
        "*   Numpy - read/data manipulation\n",
        "*   Pandas - read/data manipulation\n",
        "*   Sklearn - separate data and train the model"
      ],
      "metadata": {
        "id": "ZV5IgrAEKKt8"
      }
    },
    {
      "cell_type": "code",
      "execution_count": null,
      "metadata": {
        "id": "lkSm6ZACKJKu"
      },
      "outputs": [],
      "source": [
        "import numpy as np\n",
        "import pandas as pd\n",
        "from sklearn.linear_model import LinearRegression\n",
        "from sklearn.model_selection import train_test_split, KFold\n",
        "from sklearn import metrics"
      ]
    },
    {
      "cell_type": "markdown",
      "source": [
        "# Preparing the data"
      ],
      "metadata": {
        "id": "9mNBL6ChKzmX"
      }
    },
    {
      "cell_type": "markdown",
      "source": [
        "1. Read the xls data\n",
        "2. Show data\n"
      ],
      "metadata": {
        "id": "H3OOvVlcK6ay"
      }
    },
    {
      "cell_type": "code",
      "source": [
        "data = pd.read_excel('/content/sample_data/hospital.xls')\n",
        "data"
      ],
      "metadata": {
        "colab": {
          "base_uri": "https://localhost:8080/",
          "height": 661
        },
        "id": "8wLD55GnK4X5",
        "outputId": "e81e8dc7-5d18-4e31-c4f0-4b2f72e9e69b"
      },
      "execution_count": null,
      "outputs": [
        {
          "output_type": "execute_result",
          "data": {
            "text/plain": [
              "         ID   LastName     Sex  Age  Weight  Smoker  BloodPressure_1  \\\n",
              "0   YPL-320      SMITH    Male   38     176    True              124   \n",
              "1   GLI-532    JOHNSON    Male   43     163   False              109   \n",
              "2   PNI-258   WILLIAMS  Female   38     131   False              125   \n",
              "3   MIJ-579      JONES  Female   40     133   False              117   \n",
              "4   XLK-030      BROWN  Female   49     119   False              122   \n",
              "..      ...        ...     ...  ...     ...     ...              ...   \n",
              "95  REV-997  ALEXANDER    Male   25     171    True              128   \n",
              "96  HVR-372    RUSSELL    Male   44     188    True              124   \n",
              "97  MEZ-469    GRIFFIN    Male   49     186   False              119   \n",
              "98  BEZ-311       DIAZ    Male   45     172    True              136   \n",
              "99  ZZB-405      HAYES    Male   48     177   False              114   \n",
              "\n",
              "    BloodPressure_2  Trials_1  Trials_2  Trials_3  Trials_4  \n",
              "0                93      18.0       NaN       NaN       NaN  \n",
              "1                77      11.0      13.0      22.0       NaN  \n",
              "2                83       NaN       NaN       NaN       NaN  \n",
              "3                75       6.0      12.0       NaN       NaN  \n",
              "4                80      14.0      23.0       NaN       NaN  \n",
              "..              ...       ...       ...       ...       ...  \n",
              "95               99       1.0       NaN       NaN       NaN  \n",
              "96               92      22.0       NaN       NaN       NaN  \n",
              "97               74       9.0       NaN       NaN       NaN  \n",
              "98               93       NaN       NaN       NaN       NaN  \n",
              "99               86      28.0       NaN       NaN       NaN  \n",
              "\n",
              "[100 rows x 12 columns]"
            ],
            "text/html": [
              "\n",
              "\n",
              "  <div id=\"df-93bd12a0-29d1-4aeb-9145-567985f2c706\">\n",
              "    <div class=\"colab-df-container\">\n",
              "      <div>\n",
              "<style scoped>\n",
              "    .dataframe tbody tr th:only-of-type {\n",
              "        vertical-align: middle;\n",
              "    }\n",
              "\n",
              "    .dataframe tbody tr th {\n",
              "        vertical-align: top;\n",
              "    }\n",
              "\n",
              "    .dataframe thead th {\n",
              "        text-align: right;\n",
              "    }\n",
              "</style>\n",
              "<table border=\"1\" class=\"dataframe\">\n",
              "  <thead>\n",
              "    <tr style=\"text-align: right;\">\n",
              "      <th></th>\n",
              "      <th>ID</th>\n",
              "      <th>LastName</th>\n",
              "      <th>Sex</th>\n",
              "      <th>Age</th>\n",
              "      <th>Weight</th>\n",
              "      <th>Smoker</th>\n",
              "      <th>BloodPressure_1</th>\n",
              "      <th>BloodPressure_2</th>\n",
              "      <th>Trials_1</th>\n",
              "      <th>Trials_2</th>\n",
              "      <th>Trials_3</th>\n",
              "      <th>Trials_4</th>\n",
              "    </tr>\n",
              "  </thead>\n",
              "  <tbody>\n",
              "    <tr>\n",
              "      <th>0</th>\n",
              "      <td>YPL-320</td>\n",
              "      <td>SMITH</td>\n",
              "      <td>Male</td>\n",
              "      <td>38</td>\n",
              "      <td>176</td>\n",
              "      <td>True</td>\n",
              "      <td>124</td>\n",
              "      <td>93</td>\n",
              "      <td>18.0</td>\n",
              "      <td>NaN</td>\n",
              "      <td>NaN</td>\n",
              "      <td>NaN</td>\n",
              "    </tr>\n",
              "    <tr>\n",
              "      <th>1</th>\n",
              "      <td>GLI-532</td>\n",
              "      <td>JOHNSON</td>\n",
              "      <td>Male</td>\n",
              "      <td>43</td>\n",
              "      <td>163</td>\n",
              "      <td>False</td>\n",
              "      <td>109</td>\n",
              "      <td>77</td>\n",
              "      <td>11.0</td>\n",
              "      <td>13.0</td>\n",
              "      <td>22.0</td>\n",
              "      <td>NaN</td>\n",
              "    </tr>\n",
              "    <tr>\n",
              "      <th>2</th>\n",
              "      <td>PNI-258</td>\n",
              "      <td>WILLIAMS</td>\n",
              "      <td>Female</td>\n",
              "      <td>38</td>\n",
              "      <td>131</td>\n",
              "      <td>False</td>\n",
              "      <td>125</td>\n",
              "      <td>83</td>\n",
              "      <td>NaN</td>\n",
              "      <td>NaN</td>\n",
              "      <td>NaN</td>\n",
              "      <td>NaN</td>\n",
              "    </tr>\n",
              "    <tr>\n",
              "      <th>3</th>\n",
              "      <td>MIJ-579</td>\n",
              "      <td>JONES</td>\n",
              "      <td>Female</td>\n",
              "      <td>40</td>\n",
              "      <td>133</td>\n",
              "      <td>False</td>\n",
              "      <td>117</td>\n",
              "      <td>75</td>\n",
              "      <td>6.0</td>\n",
              "      <td>12.0</td>\n",
              "      <td>NaN</td>\n",
              "      <td>NaN</td>\n",
              "    </tr>\n",
              "    <tr>\n",
              "      <th>4</th>\n",
              "      <td>XLK-030</td>\n",
              "      <td>BROWN</td>\n",
              "      <td>Female</td>\n",
              "      <td>49</td>\n",
              "      <td>119</td>\n",
              "      <td>False</td>\n",
              "      <td>122</td>\n",
              "      <td>80</td>\n",
              "      <td>14.0</td>\n",
              "      <td>23.0</td>\n",
              "      <td>NaN</td>\n",
              "      <td>NaN</td>\n",
              "    </tr>\n",
              "    <tr>\n",
              "      <th>...</th>\n",
              "      <td>...</td>\n",
              "      <td>...</td>\n",
              "      <td>...</td>\n",
              "      <td>...</td>\n",
              "      <td>...</td>\n",
              "      <td>...</td>\n",
              "      <td>...</td>\n",
              "      <td>...</td>\n",
              "      <td>...</td>\n",
              "      <td>...</td>\n",
              "      <td>...</td>\n",
              "      <td>...</td>\n",
              "    </tr>\n",
              "    <tr>\n",
              "      <th>95</th>\n",
              "      <td>REV-997</td>\n",
              "      <td>ALEXANDER</td>\n",
              "      <td>Male</td>\n",
              "      <td>25</td>\n",
              "      <td>171</td>\n",
              "      <td>True</td>\n",
              "      <td>128</td>\n",
              "      <td>99</td>\n",
              "      <td>1.0</td>\n",
              "      <td>NaN</td>\n",
              "      <td>NaN</td>\n",
              "      <td>NaN</td>\n",
              "    </tr>\n",
              "    <tr>\n",
              "      <th>96</th>\n",
              "      <td>HVR-372</td>\n",
              "      <td>RUSSELL</td>\n",
              "      <td>Male</td>\n",
              "      <td>44</td>\n",
              "      <td>188</td>\n",
              "      <td>True</td>\n",
              "      <td>124</td>\n",
              "      <td>92</td>\n",
              "      <td>22.0</td>\n",
              "      <td>NaN</td>\n",
              "      <td>NaN</td>\n",
              "      <td>NaN</td>\n",
              "    </tr>\n",
              "    <tr>\n",
              "      <th>97</th>\n",
              "      <td>MEZ-469</td>\n",
              "      <td>GRIFFIN</td>\n",
              "      <td>Male</td>\n",
              "      <td>49</td>\n",
              "      <td>186</td>\n",
              "      <td>False</td>\n",
              "      <td>119</td>\n",
              "      <td>74</td>\n",
              "      <td>9.0</td>\n",
              "      <td>NaN</td>\n",
              "      <td>NaN</td>\n",
              "      <td>NaN</td>\n",
              "    </tr>\n",
              "    <tr>\n",
              "      <th>98</th>\n",
              "      <td>BEZ-311</td>\n",
              "      <td>DIAZ</td>\n",
              "      <td>Male</td>\n",
              "      <td>45</td>\n",
              "      <td>172</td>\n",
              "      <td>True</td>\n",
              "      <td>136</td>\n",
              "      <td>93</td>\n",
              "      <td>NaN</td>\n",
              "      <td>NaN</td>\n",
              "      <td>NaN</td>\n",
              "      <td>NaN</td>\n",
              "    </tr>\n",
              "    <tr>\n",
              "      <th>99</th>\n",
              "      <td>ZZB-405</td>\n",
              "      <td>HAYES</td>\n",
              "      <td>Male</td>\n",
              "      <td>48</td>\n",
              "      <td>177</td>\n",
              "      <td>False</td>\n",
              "      <td>114</td>\n",
              "      <td>86</td>\n",
              "      <td>28.0</td>\n",
              "      <td>NaN</td>\n",
              "      <td>NaN</td>\n",
              "      <td>NaN</td>\n",
              "    </tr>\n",
              "  </tbody>\n",
              "</table>\n",
              "<p>100 rows × 12 columns</p>\n",
              "</div>\n",
              "      <button class=\"colab-df-convert\" onclick=\"convertToInteractive('df-93bd12a0-29d1-4aeb-9145-567985f2c706')\"\n",
              "              title=\"Convert this dataframe to an interactive table.\"\n",
              "              style=\"display:none;\">\n",
              "\n",
              "  <svg xmlns=\"http://www.w3.org/2000/svg\" height=\"24px\"viewBox=\"0 0 24 24\"\n",
              "       width=\"24px\">\n",
              "    <path d=\"M0 0h24v24H0V0z\" fill=\"none\"/>\n",
              "    <path d=\"M18.56 5.44l.94 2.06.94-2.06 2.06-.94-2.06-.94-.94-2.06-.94 2.06-2.06.94zm-11 1L8.5 8.5l.94-2.06 2.06-.94-2.06-.94L8.5 2.5l-.94 2.06-2.06.94zm10 10l.94 2.06.94-2.06 2.06-.94-2.06-.94-.94-2.06-.94 2.06-2.06.94z\"/><path d=\"M17.41 7.96l-1.37-1.37c-.4-.4-.92-.59-1.43-.59-.52 0-1.04.2-1.43.59L10.3 9.45l-7.72 7.72c-.78.78-.78 2.05 0 2.83L4 21.41c.39.39.9.59 1.41.59.51 0 1.02-.2 1.41-.59l7.78-7.78 2.81-2.81c.8-.78.8-2.07 0-2.86zM5.41 20L4 18.59l7.72-7.72 1.47 1.35L5.41 20z\"/>\n",
              "  </svg>\n",
              "      </button>\n",
              "\n",
              "\n",
              "\n",
              "    <div id=\"df-04fc55a9-f87b-45c0-a38d-c4dd5f2b24c0\">\n",
              "      <button class=\"colab-df-quickchart\" onclick=\"quickchart('df-04fc55a9-f87b-45c0-a38d-c4dd5f2b24c0')\"\n",
              "              title=\"Suggest charts.\"\n",
              "              style=\"display:none;\">\n",
              "\n",
              "<svg xmlns=\"http://www.w3.org/2000/svg\" height=\"24px\"viewBox=\"0 0 24 24\"\n",
              "     width=\"24px\">\n",
              "    <g>\n",
              "        <path d=\"M19 3H5c-1.1 0-2 .9-2 2v14c0 1.1.9 2 2 2h14c1.1 0 2-.9 2-2V5c0-1.1-.9-2-2-2zM9 17H7v-7h2v7zm4 0h-2V7h2v10zm4 0h-2v-4h2v4z\"/>\n",
              "    </g>\n",
              "</svg>\n",
              "      </button>\n",
              "    </div>\n",
              "\n",
              "<style>\n",
              "  .colab-df-quickchart {\n",
              "    background-color: #E8F0FE;\n",
              "    border: none;\n",
              "    border-radius: 50%;\n",
              "    cursor: pointer;\n",
              "    display: none;\n",
              "    fill: #1967D2;\n",
              "    height: 32px;\n",
              "    padding: 0 0 0 0;\n",
              "    width: 32px;\n",
              "  }\n",
              "\n",
              "  .colab-df-quickchart:hover {\n",
              "    background-color: #E2EBFA;\n",
              "    box-shadow: 0px 1px 2px rgba(60, 64, 67, 0.3), 0px 1px 3px 1px rgba(60, 64, 67, 0.15);\n",
              "    fill: #174EA6;\n",
              "  }\n",
              "\n",
              "  [theme=dark] .colab-df-quickchart {\n",
              "    background-color: #3B4455;\n",
              "    fill: #D2E3FC;\n",
              "  }\n",
              "\n",
              "  [theme=dark] .colab-df-quickchart:hover {\n",
              "    background-color: #434B5C;\n",
              "    box-shadow: 0px 1px 3px 1px rgba(0, 0, 0, 0.15);\n",
              "    filter: drop-shadow(0px 1px 2px rgba(0, 0, 0, 0.3));\n",
              "    fill: #FFFFFF;\n",
              "  }\n",
              "</style>\n",
              "\n",
              "    <script>\n",
              "      async function quickchart(key) {\n",
              "        const containerElement = document.querySelector('#' + key);\n",
              "        const charts = await google.colab.kernel.invokeFunction(\n",
              "            'suggestCharts', [key], {});\n",
              "      }\n",
              "    </script>\n",
              "\n",
              "      <script>\n",
              "\n",
              "function displayQuickchartButton(domScope) {\n",
              "  let quickchartButtonEl =\n",
              "    domScope.querySelector('#df-04fc55a9-f87b-45c0-a38d-c4dd5f2b24c0 button.colab-df-quickchart');\n",
              "  quickchartButtonEl.style.display =\n",
              "    google.colab.kernel.accessAllowed ? 'block' : 'none';\n",
              "}\n",
              "\n",
              "        displayQuickchartButton(document);\n",
              "      </script>\n",
              "      <style>\n",
              "    .colab-df-container {\n",
              "      display:flex;\n",
              "      flex-wrap:wrap;\n",
              "      gap: 12px;\n",
              "    }\n",
              "\n",
              "    .colab-df-convert {\n",
              "      background-color: #E8F0FE;\n",
              "      border: none;\n",
              "      border-radius: 50%;\n",
              "      cursor: pointer;\n",
              "      display: none;\n",
              "      fill: #1967D2;\n",
              "      height: 32px;\n",
              "      padding: 0 0 0 0;\n",
              "      width: 32px;\n",
              "    }\n",
              "\n",
              "    .colab-df-convert:hover {\n",
              "      background-color: #E2EBFA;\n",
              "      box-shadow: 0px 1px 2px rgba(60, 64, 67, 0.3), 0px 1px 3px 1px rgba(60, 64, 67, 0.15);\n",
              "      fill: #174EA6;\n",
              "    }\n",
              "\n",
              "    [theme=dark] .colab-df-convert {\n",
              "      background-color: #3B4455;\n",
              "      fill: #D2E3FC;\n",
              "    }\n",
              "\n",
              "    [theme=dark] .colab-df-convert:hover {\n",
              "      background-color: #434B5C;\n",
              "      box-shadow: 0px 1px 3px 1px rgba(0, 0, 0, 0.15);\n",
              "      filter: drop-shadow(0px 1px 2px rgba(0, 0, 0, 0.3));\n",
              "      fill: #FFFFFF;\n",
              "    }\n",
              "  </style>\n",
              "\n",
              "      <script>\n",
              "        const buttonEl =\n",
              "          document.querySelector('#df-93bd12a0-29d1-4aeb-9145-567985f2c706 button.colab-df-convert');\n",
              "        buttonEl.style.display =\n",
              "          google.colab.kernel.accessAllowed ? 'block' : 'none';\n",
              "\n",
              "        async function convertToInteractive(key) {\n",
              "          const element = document.querySelector('#df-93bd12a0-29d1-4aeb-9145-567985f2c706');\n",
              "          const dataTable =\n",
              "            await google.colab.kernel.invokeFunction('convertToInteractive',\n",
              "                                                     [key], {});\n",
              "          if (!dataTable) return;\n",
              "\n",
              "          const docLinkHtml = 'Like what you see? Visit the ' +\n",
              "            '<a target=\"_blank\" href=https://colab.research.google.com/notebooks/data_table.ipynb>data table notebook</a>'\n",
              "            + ' to learn more about interactive tables.';\n",
              "          element.innerHTML = '';\n",
              "          dataTable['output_type'] = 'display_data';\n",
              "          await google.colab.output.renderOutput(dataTable, element);\n",
              "          const docLink = document.createElement('div');\n",
              "          docLink.innerHTML = docLinkHtml;\n",
              "          element.appendChild(docLink);\n",
              "        }\n",
              "      </script>\n",
              "    </div>\n",
              "  </div>\n"
            ]
          },
          "metadata": {},
          "execution_count": 717
        }
      ]
    },
    {
      "cell_type": "markdown",
      "source": [
        "3. Define the features (x):\n",
        "* Sex\n",
        "* Age\n",
        "* Weight\n",
        "* Smoker"
      ],
      "metadata": {
        "id": "yZOcCPb3QthK"
      }
    },
    {
      "cell_type": "code",
      "source": [
        "data.columns"
      ],
      "metadata": {
        "colab": {
          "base_uri": "https://localhost:8080/"
        },
        "id": "xVAR1mRGRC61",
        "outputId": "51448237-6178-48ee-aa0e-31873317cf0a"
      },
      "execution_count": null,
      "outputs": [
        {
          "output_type": "execute_result",
          "data": {
            "text/plain": [
              "Index(['ID', 'LastName', 'Sex', 'Age', 'Weight', 'Smoker', 'BloodPressure_1',\n",
              "       'BloodPressure_2', 'Trials_1', 'Trials_2', 'Trials_3', 'Trials_4'],\n",
              "      dtype='object')"
            ]
          },
          "metadata": {},
          "execution_count": 718
        }
      ]
    },
    {
      "cell_type": "code",
      "source": [
        "features = ['Sex', 'Age', 'Weight', 'Smoker']\n",
        "len(features)"
      ],
      "metadata": {
        "colab": {
          "base_uri": "https://localhost:8080/"
        },
        "id": "uAvtjAVqRbYH",
        "outputId": "1d68e959-0d9d-4da2-9159-603a2d938181"
      },
      "execution_count": null,
      "outputs": [
        {
          "output_type": "execute_result",
          "data": {
            "text/plain": [
              "4"
            ]
          },
          "metadata": {},
          "execution_count": 719
        }
      ]
    },
    {
      "cell_type": "markdown",
      "source": [
        "4. Define x as features and y as targets"
      ],
      "metadata": {
        "id": "7K1hZB5zbIDJ"
      }
    },
    {
      "cell_type": "code",
      "source": [
        "x = data[features].values # todas as variáveis desejadas\n",
        "y = data['BloodPressure_1'].values # pressão máxima"
      ],
      "metadata": {
        "id": "oB-ATDmcT_CT"
      },
      "execution_count": null,
      "outputs": []
    },
    {
      "cell_type": "code",
      "source": [
        "x"
      ],
      "metadata": {
        "colab": {
          "base_uri": "https://localhost:8080/"
        },
        "id": "zWOh-bdPiE5l",
        "outputId": "3457fc00-22ee-49fb-fa24-e5a1fb5f49d6"
      },
      "execution_count": null,
      "outputs": [
        {
          "output_type": "execute_result",
          "data": {
            "text/plain": [
              "array([['Male', 38, 176, True],\n",
              "       ['Male', 43, 163, False],\n",
              "       ['Female', 38, 131, False],\n",
              "       ['Female', 40, 133, False],\n",
              "       ['Female', 49, 119, False],\n",
              "       ['Female', 46, 142, False],\n",
              "       ['Female', 33, 142, True],\n",
              "       ['Male', 40, 180, False],\n",
              "       ['Male', 28, 183, False],\n",
              "       ['Female', 31, 132, False],\n",
              "       ['Female', 45, 128, False],\n",
              "       ['Female', 42, 137, False],\n",
              "       ['Male', 25, 174, False],\n",
              "       ['Male', 39, 202, True],\n",
              "       ['Female', 36, 129, False],\n",
              "       ['Male', 48, 181, True],\n",
              "       ['Male', 32, 191, True],\n",
              "       ['Female', 27, 131, True],\n",
              "       ['Male', 37, 179, False],\n",
              "       ['Male', 50, 172, False],\n",
              "       ['Female', 48, 133, False],\n",
              "       ['Female', 39, 117, False],\n",
              "       ['Female', 41, 137, False],\n",
              "       ['Female', 44, 146, True],\n",
              "       ['Female', 28, 123, True],\n",
              "       ['Male', 25, 189, False],\n",
              "       ['Female', 39, 143, False],\n",
              "       ['Female', 25, 114, False],\n",
              "       ['Male', 36, 166, False],\n",
              "       ['Male', 30, 186, True],\n",
              "       ['Female', 45, 126, True],\n",
              "       ['Female', 40, 137, False],\n",
              "       ['Female', 25, 138, False],\n",
              "       ['Male', 47, 187, False],\n",
              "       ['Male', 44, 193, False],\n",
              "       ['Female', 48, 137, False],\n",
              "       ['Male', 44, 192, True],\n",
              "       ['Female', 35, 118, False],\n",
              "       ['Male', 33, 180, True],\n",
              "       ['Female', 38, 128, False],\n",
              "       ['Male', 39, 164, True],\n",
              "       ['Male', 44, 183, False],\n",
              "       ['Male', 44, 169, True],\n",
              "       ['Male', 37, 194, True],\n",
              "       ['Male', 45, 172, False],\n",
              "       ['Female', 37, 135, False],\n",
              "       ['Male', 30, 182, False],\n",
              "       ['Female', 39, 121, False],\n",
              "       ['Male', 42, 158, False],\n",
              "       ['Male', 42, 179, True],\n",
              "       ['Male', 49, 170, True],\n",
              "       ['Female', 44, 136, True],\n",
              "       ['Female', 43, 135, True],\n",
              "       ['Female', 47, 147, False],\n",
              "       ['Male', 50, 186, True],\n",
              "       ['Female', 38, 124, False],\n",
              "       ['Female', 41, 134, False],\n",
              "       ['Male', 45, 170, True],\n",
              "       ['Male', 36, 180, False],\n",
              "       ['Female', 38, 130, False],\n",
              "       ['Female', 29, 130, False],\n",
              "       ['Female', 28, 127, False],\n",
              "       ['Female', 30, 141, False],\n",
              "       ['Female', 28, 111, False],\n",
              "       ['Female', 29, 134, False],\n",
              "       ['Male', 36, 189, False],\n",
              "       ['Female', 45, 137, False],\n",
              "       ['Female', 32, 136, False],\n",
              "       ['Female', 31, 130, False],\n",
              "       ['Female', 48, 137, True],\n",
              "       ['Male', 25, 186, False],\n",
              "       ['Female', 40, 127, True],\n",
              "       ['Male', 39, 176, False],\n",
              "       ['Female', 41, 127, False],\n",
              "       ['Female', 33, 115, True],\n",
              "       ['Male', 31, 178, True],\n",
              "       ['Female', 35, 131, False],\n",
              "       ['Male', 32, 183, False],\n",
              "       ['Male', 42, 194, False],\n",
              "       ['Female', 48, 126, False],\n",
              "       ['Male', 34, 186, False],\n",
              "       ['Male', 39, 188, False],\n",
              "       ['Male', 28, 189, True],\n",
              "       ['Female', 29, 120, False],\n",
              "       ['Female', 32, 132, False],\n",
              "       ['Male', 39, 182, True],\n",
              "       ['Female', 37, 120, True],\n",
              "       ['Female', 49, 123, True],\n",
              "       ['Female', 31, 141, True],\n",
              "       ['Female', 37, 129, False],\n",
              "       ['Male', 38, 184, True],\n",
              "       ['Male', 45, 181, False],\n",
              "       ['Female', 30, 124, False],\n",
              "       ['Male', 48, 174, False],\n",
              "       ['Female', 48, 134, False],\n",
              "       ['Male', 25, 171, True],\n",
              "       ['Male', 44, 188, True],\n",
              "       ['Male', 49, 186, False],\n",
              "       ['Male', 45, 172, True],\n",
              "       ['Male', 48, 177, False]], dtype=object)"
            ]
          },
          "metadata": {},
          "execution_count": 721
        }
      ]
    },
    {
      "cell_type": "markdown",
      "source": [
        "Como \"Sex\" e \"Smoker\" são strings e não dados numéricos\n",
        "\n",
        "Pode-se considerar:\n",
        "\n",
        "* Female = 0\n",
        "* Male = 1\n",
        "* Smoker = 1\n",
        "* Non-smoker = 0"
      ],
      "metadata": {
        "id": "uxKSa6kKiqj8"
      }
    },
    {
      "cell_type": "code",
      "source": [
        "xSex = np.where(x[:,0] == 'Male', 1, 0)\n",
        "x[:,0] = xSex\n",
        "x"
      ],
      "metadata": {
        "colab": {
          "base_uri": "https://localhost:8080/"
        },
        "id": "TOGoh9bjk4LS",
        "outputId": "819334ff-2dab-4768-f995-96c8b8689f42"
      },
      "execution_count": null,
      "outputs": [
        {
          "output_type": "execute_result",
          "data": {
            "text/plain": [
              "array([[1, 38, 176, True],\n",
              "       [1, 43, 163, False],\n",
              "       [0, 38, 131, False],\n",
              "       [0, 40, 133, False],\n",
              "       [0, 49, 119, False],\n",
              "       [0, 46, 142, False],\n",
              "       [0, 33, 142, True],\n",
              "       [1, 40, 180, False],\n",
              "       [1, 28, 183, False],\n",
              "       [0, 31, 132, False],\n",
              "       [0, 45, 128, False],\n",
              "       [0, 42, 137, False],\n",
              "       [1, 25, 174, False],\n",
              "       [1, 39, 202, True],\n",
              "       [0, 36, 129, False],\n",
              "       [1, 48, 181, True],\n",
              "       [1, 32, 191, True],\n",
              "       [0, 27, 131, True],\n",
              "       [1, 37, 179, False],\n",
              "       [1, 50, 172, False],\n",
              "       [0, 48, 133, False],\n",
              "       [0, 39, 117, False],\n",
              "       [0, 41, 137, False],\n",
              "       [0, 44, 146, True],\n",
              "       [0, 28, 123, True],\n",
              "       [1, 25, 189, False],\n",
              "       [0, 39, 143, False],\n",
              "       [0, 25, 114, False],\n",
              "       [1, 36, 166, False],\n",
              "       [1, 30, 186, True],\n",
              "       [0, 45, 126, True],\n",
              "       [0, 40, 137, False],\n",
              "       [0, 25, 138, False],\n",
              "       [1, 47, 187, False],\n",
              "       [1, 44, 193, False],\n",
              "       [0, 48, 137, False],\n",
              "       [1, 44, 192, True],\n",
              "       [0, 35, 118, False],\n",
              "       [1, 33, 180, True],\n",
              "       [0, 38, 128, False],\n",
              "       [1, 39, 164, True],\n",
              "       [1, 44, 183, False],\n",
              "       [1, 44, 169, True],\n",
              "       [1, 37, 194, True],\n",
              "       [1, 45, 172, False],\n",
              "       [0, 37, 135, False],\n",
              "       [1, 30, 182, False],\n",
              "       [0, 39, 121, False],\n",
              "       [1, 42, 158, False],\n",
              "       [1, 42, 179, True],\n",
              "       [1, 49, 170, True],\n",
              "       [0, 44, 136, True],\n",
              "       [0, 43, 135, True],\n",
              "       [0, 47, 147, False],\n",
              "       [1, 50, 186, True],\n",
              "       [0, 38, 124, False],\n",
              "       [0, 41, 134, False],\n",
              "       [1, 45, 170, True],\n",
              "       [1, 36, 180, False],\n",
              "       [0, 38, 130, False],\n",
              "       [0, 29, 130, False],\n",
              "       [0, 28, 127, False],\n",
              "       [0, 30, 141, False],\n",
              "       [0, 28, 111, False],\n",
              "       [0, 29, 134, False],\n",
              "       [1, 36, 189, False],\n",
              "       [0, 45, 137, False],\n",
              "       [0, 32, 136, False],\n",
              "       [0, 31, 130, False],\n",
              "       [0, 48, 137, True],\n",
              "       [1, 25, 186, False],\n",
              "       [0, 40, 127, True],\n",
              "       [1, 39, 176, False],\n",
              "       [0, 41, 127, False],\n",
              "       [0, 33, 115, True],\n",
              "       [1, 31, 178, True],\n",
              "       [0, 35, 131, False],\n",
              "       [1, 32, 183, False],\n",
              "       [1, 42, 194, False],\n",
              "       [0, 48, 126, False],\n",
              "       [1, 34, 186, False],\n",
              "       [1, 39, 188, False],\n",
              "       [1, 28, 189, True],\n",
              "       [0, 29, 120, False],\n",
              "       [0, 32, 132, False],\n",
              "       [1, 39, 182, True],\n",
              "       [0, 37, 120, True],\n",
              "       [0, 49, 123, True],\n",
              "       [0, 31, 141, True],\n",
              "       [0, 37, 129, False],\n",
              "       [1, 38, 184, True],\n",
              "       [1, 45, 181, False],\n",
              "       [0, 30, 124, False],\n",
              "       [1, 48, 174, False],\n",
              "       [0, 48, 134, False],\n",
              "       [1, 25, 171, True],\n",
              "       [1, 44, 188, True],\n",
              "       [1, 49, 186, False],\n",
              "       [1, 45, 172, True],\n",
              "       [1, 48, 177, False]], dtype=object)"
            ]
          },
          "metadata": {},
          "execution_count": 722
        }
      ]
    },
    {
      "cell_type": "code",
      "source": [
        "xSmoker = np.where(x[:,3] == True, 1, 0)\n",
        "x[:,3] = xSmoker\n",
        "x"
      ],
      "metadata": {
        "colab": {
          "base_uri": "https://localhost:8080/"
        },
        "id": "z8BM2jvLjxpI",
        "outputId": "8e8fe4d2-0182-4c58-c949-03d6b7c7f2db"
      },
      "execution_count": null,
      "outputs": [
        {
          "output_type": "execute_result",
          "data": {
            "text/plain": [
              "array([[1, 38, 176, 1],\n",
              "       [1, 43, 163, 0],\n",
              "       [0, 38, 131, 0],\n",
              "       [0, 40, 133, 0],\n",
              "       [0, 49, 119, 0],\n",
              "       [0, 46, 142, 0],\n",
              "       [0, 33, 142, 1],\n",
              "       [1, 40, 180, 0],\n",
              "       [1, 28, 183, 0],\n",
              "       [0, 31, 132, 0],\n",
              "       [0, 45, 128, 0],\n",
              "       [0, 42, 137, 0],\n",
              "       [1, 25, 174, 0],\n",
              "       [1, 39, 202, 1],\n",
              "       [0, 36, 129, 0],\n",
              "       [1, 48, 181, 1],\n",
              "       [1, 32, 191, 1],\n",
              "       [0, 27, 131, 1],\n",
              "       [1, 37, 179, 0],\n",
              "       [1, 50, 172, 0],\n",
              "       [0, 48, 133, 0],\n",
              "       [0, 39, 117, 0],\n",
              "       [0, 41, 137, 0],\n",
              "       [0, 44, 146, 1],\n",
              "       [0, 28, 123, 1],\n",
              "       [1, 25, 189, 0],\n",
              "       [0, 39, 143, 0],\n",
              "       [0, 25, 114, 0],\n",
              "       [1, 36, 166, 0],\n",
              "       [1, 30, 186, 1],\n",
              "       [0, 45, 126, 1],\n",
              "       [0, 40, 137, 0],\n",
              "       [0, 25, 138, 0],\n",
              "       [1, 47, 187, 0],\n",
              "       [1, 44, 193, 0],\n",
              "       [0, 48, 137, 0],\n",
              "       [1, 44, 192, 1],\n",
              "       [0, 35, 118, 0],\n",
              "       [1, 33, 180, 1],\n",
              "       [0, 38, 128, 0],\n",
              "       [1, 39, 164, 1],\n",
              "       [1, 44, 183, 0],\n",
              "       [1, 44, 169, 1],\n",
              "       [1, 37, 194, 1],\n",
              "       [1, 45, 172, 0],\n",
              "       [0, 37, 135, 0],\n",
              "       [1, 30, 182, 0],\n",
              "       [0, 39, 121, 0],\n",
              "       [1, 42, 158, 0],\n",
              "       [1, 42, 179, 1],\n",
              "       [1, 49, 170, 1],\n",
              "       [0, 44, 136, 1],\n",
              "       [0, 43, 135, 1],\n",
              "       [0, 47, 147, 0],\n",
              "       [1, 50, 186, 1],\n",
              "       [0, 38, 124, 0],\n",
              "       [0, 41, 134, 0],\n",
              "       [1, 45, 170, 1],\n",
              "       [1, 36, 180, 0],\n",
              "       [0, 38, 130, 0],\n",
              "       [0, 29, 130, 0],\n",
              "       [0, 28, 127, 0],\n",
              "       [0, 30, 141, 0],\n",
              "       [0, 28, 111, 0],\n",
              "       [0, 29, 134, 0],\n",
              "       [1, 36, 189, 0],\n",
              "       [0, 45, 137, 0],\n",
              "       [0, 32, 136, 0],\n",
              "       [0, 31, 130, 0],\n",
              "       [0, 48, 137, 1],\n",
              "       [1, 25, 186, 0],\n",
              "       [0, 40, 127, 1],\n",
              "       [1, 39, 176, 0],\n",
              "       [0, 41, 127, 0],\n",
              "       [0, 33, 115, 1],\n",
              "       [1, 31, 178, 1],\n",
              "       [0, 35, 131, 0],\n",
              "       [1, 32, 183, 0],\n",
              "       [1, 42, 194, 0],\n",
              "       [0, 48, 126, 0],\n",
              "       [1, 34, 186, 0],\n",
              "       [1, 39, 188, 0],\n",
              "       [1, 28, 189, 1],\n",
              "       [0, 29, 120, 0],\n",
              "       [0, 32, 132, 0],\n",
              "       [1, 39, 182, 1],\n",
              "       [0, 37, 120, 1],\n",
              "       [0, 49, 123, 1],\n",
              "       [0, 31, 141, 1],\n",
              "       [0, 37, 129, 0],\n",
              "       [1, 38, 184, 1],\n",
              "       [1, 45, 181, 0],\n",
              "       [0, 30, 124, 0],\n",
              "       [1, 48, 174, 0],\n",
              "       [0, 48, 134, 0],\n",
              "       [1, 25, 171, 1],\n",
              "       [1, 44, 188, 1],\n",
              "       [1, 49, 186, 0],\n",
              "       [1, 45, 172, 1],\n",
              "       [1, 48, 177, 0]], dtype=object)"
            ]
          },
          "metadata": {},
          "execution_count": 723
        }
      ]
    },
    {
      "cell_type": "code",
      "source": [
        "y # para verificar se o y está retornando os valores corretos"
      ],
      "metadata": {
        "colab": {
          "base_uri": "https://localhost:8080/"
        },
        "id": "WrUFgAZGVC8C",
        "outputId": "36267ef6-84e7-47cc-91ec-74d66366c454"
      },
      "execution_count": null,
      "outputs": [
        {
          "output_type": "execute_result",
          "data": {
            "text/plain": [
              "array([124, 109, 125, 117, 122, 121, 130, 115, 115, 118, 114, 115, 127,\n",
              "       130, 114, 130, 124, 123, 119, 125, 121, 123, 114, 128, 129, 114,\n",
              "       113, 125, 120, 127, 134, 121, 115, 127, 121, 127, 136, 117, 124,\n",
              "       120, 128, 116, 132, 137, 117, 116, 119, 123, 116, 124, 129, 130,\n",
              "       132, 117, 129, 118, 120, 138, 117, 113, 122, 115, 120, 117, 123,\n",
              "       123, 119, 110, 121, 138, 125, 122, 120, 117, 125, 124, 121, 118,\n",
              "       120, 118, 118, 122, 134, 131, 113, 125, 135, 128, 123, 122, 138,\n",
              "       124, 130, 123, 129, 128, 124, 119, 136, 114])"
            ]
          },
          "metadata": {},
          "execution_count": 724
        }
      ]
    },
    {
      "cell_type": "code",
      "source": [
        "x.shape"
      ],
      "metadata": {
        "colab": {
          "base_uri": "https://localhost:8080/"
        },
        "id": "7vScukCcmy5b",
        "outputId": "59c3ffd1-4a23-47b7-93ba-a974a7c3992e"
      },
      "execution_count": null,
      "outputs": [
        {
          "output_type": "execute_result",
          "data": {
            "text/plain": [
              "(100, 4)"
            ]
          },
          "metadata": {},
          "execution_count": 725
        }
      ]
    },
    {
      "cell_type": "code",
      "source": [
        "y.shape"
      ],
      "metadata": {
        "colab": {
          "base_uri": "https://localhost:8080/"
        },
        "id": "m_AnY761m3RJ",
        "outputId": "b44b8b28-e368-4585-b37d-2924e3bf8dc8"
      },
      "execution_count": null,
      "outputs": [
        {
          "output_type": "execute_result",
          "data": {
            "text/plain": [
              "(100,)"
            ]
          },
          "metadata": {},
          "execution_count": 726
        }
      ]
    },
    {
      "cell_type": "markdown",
      "source": [
        "5. Use `train_test_split` to divide the data in 80/20\n",
        "\n",
        "Nesse caso,\n",
        "20% das amostras para teste e os outros 80% para treinamento"
      ],
      "metadata": {
        "id": "iFXM7xT-VrdV"
      }
    },
    {
      "cell_type": "code",
      "source": [
        "x_train, x_test, y_train, y_teste = train_test_split(x, y, test_size=0.2, random_state=4)"
      ],
      "metadata": {
        "id": "GsCBXi1VU-NZ"
      },
      "execution_count": null,
      "outputs": []
    },
    {
      "cell_type": "code",
      "source": [
        "x_train.shape"
      ],
      "metadata": {
        "colab": {
          "base_uri": "https://localhost:8080/"
        },
        "id": "UYoVnOb1WF5z",
        "outputId": "07401540-3feb-47b8-cf10-3330dd8fb2bd"
      },
      "execution_count": null,
      "outputs": [
        {
          "output_type": "execute_result",
          "data": {
            "text/plain": [
              "(80, 4)"
            ]
          },
          "metadata": {},
          "execution_count": 728
        }
      ]
    },
    {
      "cell_type": "code",
      "source": [
        "x_test.shape"
      ],
      "metadata": {
        "colab": {
          "base_uri": "https://localhost:8080/"
        },
        "id": "iVnaihHZWI3X",
        "outputId": "593c4037-3f0b-4cba-b7f7-213349f4affd"
      },
      "execution_count": null,
      "outputs": [
        {
          "output_type": "execute_result",
          "data": {
            "text/plain": [
              "(20, 4)"
            ]
          },
          "metadata": {},
          "execution_count": 729
        }
      ]
    },
    {
      "cell_type": "markdown",
      "source": [
        "# Building the model"
      ],
      "metadata": {
        "id": "wqJVvKDQWQWS"
      }
    },
    {
      "cell_type": "markdown",
      "source": [
        "1. Using `LinearRegression()` to build the model"
      ],
      "metadata": {
        "id": "cSmBmVSfWSxu"
      }
    },
    {
      "cell_type": "code",
      "source": [
        "model = LinearRegression()"
      ],
      "metadata": {
        "id": "8xHdipCBWWNe"
      },
      "execution_count": null,
      "outputs": []
    },
    {
      "cell_type": "markdown",
      "source": [
        "# Training/Evaluating the model\n"
      ],
      "metadata": {
        "id": "DLCtylLNpeRZ"
      }
    },
    {
      "cell_type": "markdown",
      "source": [
        "Para avaliar o modelo, o enunciado pede a validação cruzada em 5 pastas"
      ],
      "metadata": {
        "id": "Uwqmk-BGpkaS"
      }
    },
    {
      "cell_type": "code",
      "source": [
        "kf = KFold(n_splits = 5, shuffle=False)\n",
        "kf"
      ],
      "metadata": {
        "colab": {
          "base_uri": "https://localhost:8080/"
        },
        "id": "2eLy6LmTpi6N",
        "outputId": "2998bb55-c554-41f2-b525-ce41596b1c0e"
      },
      "execution_count": null,
      "outputs": [
        {
          "output_type": "execute_result",
          "data": {
            "text/plain": [
              "KFold(n_splits=5, random_state=None, shuffle=False)"
            ]
          },
          "metadata": {},
          "execution_count": 731
        }
      ]
    },
    {
      "cell_type": "code",
      "source": [
        "for i, j in kf.split(x):\n",
        "  print(i)\n",
        "  print(j)\n",
        "  print(\"\\n\")"
      ],
      "metadata": {
        "colab": {
          "base_uri": "https://localhost:8080/"
        },
        "id": "aRfTHUJCp6qt",
        "outputId": "9fe463c1-cb2e-4083-8ec7-480a6a812d80"
      },
      "execution_count": null,
      "outputs": [
        {
          "output_type": "stream",
          "name": "stdout",
          "text": [
            "[20 21 22 23 24 25 26 27 28 29 30 31 32 33 34 35 36 37 38 39 40 41 42 43\n",
            " 44 45 46 47 48 49 50 51 52 53 54 55 56 57 58 59 60 61 62 63 64 65 66 67\n",
            " 68 69 70 71 72 73 74 75 76 77 78 79 80 81 82 83 84 85 86 87 88 89 90 91\n",
            " 92 93 94 95 96 97 98 99]\n",
            "[ 0  1  2  3  4  5  6  7  8  9 10 11 12 13 14 15 16 17 18 19]\n",
            "\n",
            "\n",
            "[ 0  1  2  3  4  5  6  7  8  9 10 11 12 13 14 15 16 17 18 19 40 41 42 43\n",
            " 44 45 46 47 48 49 50 51 52 53 54 55 56 57 58 59 60 61 62 63 64 65 66 67\n",
            " 68 69 70 71 72 73 74 75 76 77 78 79 80 81 82 83 84 85 86 87 88 89 90 91\n",
            " 92 93 94 95 96 97 98 99]\n",
            "[20 21 22 23 24 25 26 27 28 29 30 31 32 33 34 35 36 37 38 39]\n",
            "\n",
            "\n",
            "[ 0  1  2  3  4  5  6  7  8  9 10 11 12 13 14 15 16 17 18 19 20 21 22 23\n",
            " 24 25 26 27 28 29 30 31 32 33 34 35 36 37 38 39 60 61 62 63 64 65 66 67\n",
            " 68 69 70 71 72 73 74 75 76 77 78 79 80 81 82 83 84 85 86 87 88 89 90 91\n",
            " 92 93 94 95 96 97 98 99]\n",
            "[40 41 42 43 44 45 46 47 48 49 50 51 52 53 54 55 56 57 58 59]\n",
            "\n",
            "\n",
            "[ 0  1  2  3  4  5  6  7  8  9 10 11 12 13 14 15 16 17 18 19 20 21 22 23\n",
            " 24 25 26 27 28 29 30 31 32 33 34 35 36 37 38 39 40 41 42 43 44 45 46 47\n",
            " 48 49 50 51 52 53 54 55 56 57 58 59 80 81 82 83 84 85 86 87 88 89 90 91\n",
            " 92 93 94 95 96 97 98 99]\n",
            "[60 61 62 63 64 65 66 67 68 69 70 71 72 73 74 75 76 77 78 79]\n",
            "\n",
            "\n",
            "[ 0  1  2  3  4  5  6  7  8  9 10 11 12 13 14 15 16 17 18 19 20 21 22 23\n",
            " 24 25 26 27 28 29 30 31 32 33 34 35 36 37 38 39 40 41 42 43 44 45 46 47\n",
            " 48 49 50 51 52 53 54 55 56 57 58 59 60 61 62 63 64 65 66 67 68 69 70 71\n",
            " 72 73 74 75 76 77 78 79]\n",
            "[80 81 82 83 84 85 86 87 88 89 90 91 92 93 94 95 96 97 98 99]\n",
            "\n",
            "\n"
          ]
        }
      ]
    },
    {
      "cell_type": "code",
      "source": [
        "x_train"
      ],
      "metadata": {
        "colab": {
          "base_uri": "https://localhost:8080/"
        },
        "id": "_y20i3fSqTI_",
        "outputId": "225d4f8e-78d7-4e5c-9076-87fc2a9353f1"
      },
      "execution_count": null,
      "outputs": [
        {
          "output_type": "execute_result",
          "data": {
            "text/plain": [
              "array([[1, 34, 186, 0],\n",
              "       [0, 49, 119, 0],\n",
              "       [1, 39, 188, 0],\n",
              "       [0, 35, 131, 0],\n",
              "       [1, 39, 182, 1],\n",
              "       [0, 29, 130, 0],\n",
              "       [0, 46, 142, 0],\n",
              "       [1, 25, 186, 0],\n",
              "       [0, 40, 127, 1],\n",
              "       [1, 50, 172, 0],\n",
              "       [1, 36, 189, 0],\n",
              "       [0, 30, 141, 0],\n",
              "       [0, 25, 114, 0],\n",
              "       [1, 31, 178, 1],\n",
              "       [0, 28, 127, 0],\n",
              "       [1, 42, 194, 0],\n",
              "       [1, 37, 179, 0],\n",
              "       [0, 31, 141, 1],\n",
              "       [1, 40, 180, 0],\n",
              "       [0, 38, 128, 0],\n",
              "       [0, 33, 142, 1],\n",
              "       [1, 32, 183, 0],\n",
              "       [0, 42, 137, 0],\n",
              "       [0, 38, 130, 0],\n",
              "       [0, 41, 137, 0],\n",
              "       [0, 48, 134, 0],\n",
              "       [0, 44, 146, 1],\n",
              "       [1, 25, 174, 0],\n",
              "       [0, 30, 124, 0],\n",
              "       [1, 25, 189, 0],\n",
              "       [0, 29, 120, 0],\n",
              "       [1, 42, 158, 0],\n",
              "       [0, 27, 131, 1],\n",
              "       [0, 31, 130, 0],\n",
              "       [0, 40, 137, 0],\n",
              "       [1, 44, 193, 0],\n",
              "       [1, 48, 181, 1],\n",
              "       [0, 44, 136, 1],\n",
              "       [0, 37, 120, 1],\n",
              "       [1, 28, 189, 1],\n",
              "       [1, 36, 166, 0],\n",
              "       [0, 29, 134, 0],\n",
              "       [0, 32, 136, 0],\n",
              "       [1, 47, 187, 0],\n",
              "       [0, 37, 135, 0],\n",
              "       [1, 44, 169, 1],\n",
              "       [1, 39, 164, 1],\n",
              "       [0, 25, 138, 0],\n",
              "       [1, 45, 181, 0],\n",
              "       [0, 33, 115, 1],\n",
              "       [1, 42, 179, 1],\n",
              "       [1, 28, 183, 0],\n",
              "       [0, 45, 126, 1],\n",
              "       [1, 48, 177, 0],\n",
              "       [0, 45, 137, 0],\n",
              "       [0, 41, 134, 0],\n",
              "       [0, 32, 132, 0],\n",
              "       [0, 41, 127, 0],\n",
              "       [0, 48, 126, 0],\n",
              "       [0, 39, 117, 0],\n",
              "       [0, 37, 129, 0],\n",
              "       [1, 38, 176, 1],\n",
              "       [0, 40, 133, 0],\n",
              "       [0, 43, 135, 1],\n",
              "       [1, 33, 180, 1],\n",
              "       [1, 45, 172, 0],\n",
              "       [1, 48, 174, 0],\n",
              "       [1, 44, 192, 1],\n",
              "       [1, 45, 170, 1],\n",
              "       [1, 38, 184, 1],\n",
              "       [1, 45, 172, 1],\n",
              "       [1, 36, 180, 0],\n",
              "       [0, 31, 132, 0],\n",
              "       [1, 49, 170, 1],\n",
              "       [1, 39, 176, 0],\n",
              "       [0, 49, 123, 1],\n",
              "       [1, 43, 163, 0],\n",
              "       [0, 48, 137, 1],\n",
              "       [0, 38, 124, 0],\n",
              "       [1, 30, 182, 0]], dtype=object)"
            ]
          },
          "metadata": {},
          "execution_count": 733
        }
      ]
    },
    {
      "cell_type": "markdown",
      "source": [
        "Cálculo do erro médio quadrático e coeficiente de pearson para cada pasta"
      ],
      "metadata": {
        "id": "ZdZ_nzo61TTq"
      }
    },
    {
      "cell_type": "code",
      "source": [
        "i = 0\n",
        "\n",
        "mse_average = 0\n",
        "r_average = 0\n",
        "\n",
        "# Cáculo de MSE e coeficiente de Pearson para cada pasta\n",
        "for train_index, test_index in kf.split(x):\n",
        "  x_train = x[train_index, :]\n",
        "  x_test = x[test_index, :]\n",
        "\n",
        "  y_train = y[train_index]\n",
        "  y_test = y[test_index]\n",
        "\n",
        "  model.fit(x_train, y_train) # para treinar o modelo\n",
        "  y_pred = model.predict(x_test)  # predict() para previsões\n",
        "  mse_ = metrics.mean_squared_error(y_test, y_pred) # para mostrar MSE\n",
        "  r = np.corrcoef(y_pred, y_test) # para calcular o coeficiente de Pearson\n",
        "\n",
        "  i+=1\n",
        "\n",
        "  print(\"\\n\\n================== Fold \" + str(i) + \" ==================\")\n",
        "  print(len(x_train), len(y_train))\n",
        "  print(len(x_test), len(y_test))\n",
        "  print(\"Model Coeficient: \", model.coef_)  # mostra o viés\n",
        "  print(\"Model Intercept: \", model.intercept_)  # mostra pesos\n",
        "  print(\"MSE: {} \".format(mse_))\n",
        "  print(\"Coeficiente de Pearson:\\n {} \".format(r))\n",
        "\n",
        "  mse_average = mse_average + mse_\n",
        "  r_average = r_average + r"
      ],
      "metadata": {
        "colab": {
          "base_uri": "https://localhost:8080/"
        },
        "id": "J-JCal7sr2lw",
        "outputId": "28929951-8ec7-4066-d424-b0b0c3a1cd0f"
      },
      "execution_count": null,
      "outputs": [
        {
          "output_type": "stream",
          "name": "stdout",
          "text": [
            "\n",
            "\n",
            "================== Fold 1 ==================\n",
            "80 80\n",
            "20 20\n",
            "Model Coeficient:  [ 1.6658943   0.09282703 -0.03113033  9.97764216]\n",
            "Model Intercept:  120.22461458105191\n",
            "MSE: 24.44567558971206 \n",
            "Coeficiente de Pearson:\n",
            " [[1.         0.64979733]\n",
            " [0.64979733 1.        ]] \n",
            "\n",
            "\n",
            "================== Fold 2 ==================\n",
            "80 80\n",
            "20 20\n",
            "Model Coeficient:  [-0.3305332   0.02802309  0.01005945  9.9393059 ]\n",
            "Model Intercept:  116.82424976207196\n",
            "MSE: 19.16836426362937 \n",
            "Coeficiente de Pearson:\n",
            " [[1.         0.72490823]\n",
            " [0.72490823 1.        ]] \n",
            "\n",
            "\n",
            "================== Fold 3 ==================\n",
            "80 80\n",
            "20 20\n",
            "Model Coeficient:  [ 1.80100359  0.10051847 -0.03228915  9.04301332]\n",
            "Model Intercept:  120.14329720222923\n",
            "MSE: 16.65318666696897 \n",
            "Coeficiente de Pearson:\n",
            " [[1.         0.88161462]\n",
            " [0.88161462 1.        ]] \n",
            "\n",
            "\n",
            "================== Fold 4 ==================\n",
            "80 80\n",
            "20 20\n",
            "Model Coeficient:  [ 2.71012735  0.0904549  -0.06516558 10.48408207]\n",
            "Model Intercept:  124.5649063678913\n",
            "MSE: 21.10773554857101 \n",
            "Coeficiente de Pearson:\n",
            " [[1.         0.57028363]\n",
            " [0.57028363 1.        ]] \n",
            "\n",
            "\n",
            "================== Fold 5 ==================\n",
            "80 80\n",
            "20 20\n",
            "Model Coeficient:  [-0.99848894  0.11862198  0.02692247  9.92682388]\n",
            "Model Intercept:  110.72745424987467\n",
            "MSE: 40.58287894042577 \n",
            "Coeficiente de Pearson:\n",
            " [[1.         0.52770787]\n",
            " [0.52770787 1.        ]] \n"
          ]
        }
      ]
    },
    {
      "cell_type": "markdown",
      "source": [
        "Cálculo do valor médio do coeficiente de Person e erro médio quadrático"
      ],
      "metadata": {
        "id": "beWpNdRz07g2"
      }
    },
    {
      "cell_type": "code",
      "source": [
        "mse_average = mse_average/5\n",
        "r_average = r_average/5\n",
        "\n",
        "print(\"Valor médio do coeficiente de Pearson e do MSE \\n\")\n",
        "print(\"Média do coeficiente de Person: \\n {} \\n\".format(r_average))\n",
        "print(\"Média do MSE: {}\".format(mse_average))"
      ],
      "metadata": {
        "colab": {
          "base_uri": "https://localhost:8080/"
        },
        "id": "-qQFammmyp-Z",
        "outputId": "2895d8e3-0dd4-4871-8983-d3f5dda68fdb"
      },
      "execution_count": null,
      "outputs": [
        {
          "output_type": "stream",
          "name": "stdout",
          "text": [
            "Valor médio do coeficiente de Pearson e do MSE \n",
            "\n",
            "Média do coeficiente de Person: \n",
            " [[1.         0.67086233]\n",
            " [0.67086233 1.        ]] \n",
            "\n",
            "Média do MSE: 24.39156820186144\n"
          ]
        }
      ]
    },
    {
      "cell_type": "markdown",
      "source": [
        "O MSE calcula a diferença entre o valor predito e o real. Quanto menor é o valor de MSE, melhor o modela performa em relação as previsões\n",
        "\n",
        "A correlação de Pearson quantifica o grau de relacionamento entre duas variáveis contínuas, seu valor varia de -1 a 1.\n",
        "1 indica correlação perfeita positiva e -1 correlação perfeita negativa\n",
        "\n",
        "**A pasta 3** é a que apresenta *menor MSE* e *correlação de Pearson mais próxima de 1*, por isso o seu modelo é o escolhido para teste e predições neste caso\n"
      ],
      "metadata": {
        "id": "vcgWgevY2chS"
      }
    },
    {
      "cell_type": "code",
      "source": [
        "y_pred"
      ],
      "metadata": {
        "colab": {
          "base_uri": "https://localhost:8080/"
        },
        "id": "FXDxHVrl5Pw6",
        "outputId": "60942cf1-61dc-478f-da4f-c250aa2247f8"
      },
      "execution_count": null,
      "outputs": [
        {
          "output_type": "execute_result",
          "data": {
            "text/plain": [
              "array([118.76969295, 119.4166478 , 128.06555237, 117.39818865,\n",
              "       118.07712429, 129.18193683, 128.27398838, 129.77821957,\n",
              "       128.12762847, 118.58946677, 129.1171598 , 119.93992236,\n",
              "       117.62450053, 120.10733098, 120.02892093, 127.22508188,\n",
              "       129.93658158, 120.54902266, 129.62444397, 120.1880984 ])"
            ]
          },
          "metadata": {},
          "execution_count": 736
        }
      ]
    },
    {
      "cell_type": "markdown",
      "source": [
        "Selecionando o modelo 3"
      ],
      "metadata": {
        "id": "whXuLbHz5sm5"
      }
    },
    {
      "cell_type": "code",
      "source": [
        "i = 0\n",
        "for train_index, test_index in kf.split(x):\n",
        "  if i == 2:\n",
        "    x_train = x[train_index, :]\n",
        "    x_test = x[test_index, :]\n",
        "\n",
        "    y_train = y[train_index]\n",
        "    y_test = y[test_index]\n",
        "\n",
        "  i+=1"
      ],
      "metadata": {
        "id": "DHFF0vUX5vK0"
      },
      "execution_count": null,
      "outputs": []
    },
    {
      "cell_type": "code",
      "source": [
        "model.fit(x_train, y_train)"
      ],
      "metadata": {
        "colab": {
          "base_uri": "https://localhost:8080/",
          "height": 75
        },
        "id": "thcVMqWh76JR",
        "outputId": "182701d5-5b3c-4ee2-9ff7-c09507edd4b1"
      },
      "execution_count": null,
      "outputs": [
        {
          "output_type": "execute_result",
          "data": {
            "text/plain": [
              "LinearRegression()"
            ],
            "text/html": [
              "<style>#sk-container-id-15 {color: black;background-color: white;}#sk-container-id-15 pre{padding: 0;}#sk-container-id-15 div.sk-toggleable {background-color: white;}#sk-container-id-15 label.sk-toggleable__label {cursor: pointer;display: block;width: 100%;margin-bottom: 0;padding: 0.3em;box-sizing: border-box;text-align: center;}#sk-container-id-15 label.sk-toggleable__label-arrow:before {content: \"▸\";float: left;margin-right: 0.25em;color: #696969;}#sk-container-id-15 label.sk-toggleable__label-arrow:hover:before {color: black;}#sk-container-id-15 div.sk-estimator:hover label.sk-toggleable__label-arrow:before {color: black;}#sk-container-id-15 div.sk-toggleable__content {max-height: 0;max-width: 0;overflow: hidden;text-align: left;background-color: #f0f8ff;}#sk-container-id-15 div.sk-toggleable__content pre {margin: 0.2em;color: black;border-radius: 0.25em;background-color: #f0f8ff;}#sk-container-id-15 input.sk-toggleable__control:checked~div.sk-toggleable__content {max-height: 200px;max-width: 100%;overflow: auto;}#sk-container-id-15 input.sk-toggleable__control:checked~label.sk-toggleable__label-arrow:before {content: \"▾\";}#sk-container-id-15 div.sk-estimator input.sk-toggleable__control:checked~label.sk-toggleable__label {background-color: #d4ebff;}#sk-container-id-15 div.sk-label input.sk-toggleable__control:checked~label.sk-toggleable__label {background-color: #d4ebff;}#sk-container-id-15 input.sk-hidden--visually {border: 0;clip: rect(1px 1px 1px 1px);clip: rect(1px, 1px, 1px, 1px);height: 1px;margin: -1px;overflow: hidden;padding: 0;position: absolute;width: 1px;}#sk-container-id-15 div.sk-estimator {font-family: monospace;background-color: #f0f8ff;border: 1px dotted black;border-radius: 0.25em;box-sizing: border-box;margin-bottom: 0.5em;}#sk-container-id-15 div.sk-estimator:hover {background-color: #d4ebff;}#sk-container-id-15 div.sk-parallel-item::after {content: \"\";width: 100%;border-bottom: 1px solid gray;flex-grow: 1;}#sk-container-id-15 div.sk-label:hover label.sk-toggleable__label {background-color: #d4ebff;}#sk-container-id-15 div.sk-serial::before {content: \"\";position: absolute;border-left: 1px solid gray;box-sizing: border-box;top: 0;bottom: 0;left: 50%;z-index: 0;}#sk-container-id-15 div.sk-serial {display: flex;flex-direction: column;align-items: center;background-color: white;padding-right: 0.2em;padding-left: 0.2em;position: relative;}#sk-container-id-15 div.sk-item {position: relative;z-index: 1;}#sk-container-id-15 div.sk-parallel {display: flex;align-items: stretch;justify-content: center;background-color: white;position: relative;}#sk-container-id-15 div.sk-item::before, #sk-container-id-15 div.sk-parallel-item::before {content: \"\";position: absolute;border-left: 1px solid gray;box-sizing: border-box;top: 0;bottom: 0;left: 50%;z-index: -1;}#sk-container-id-15 div.sk-parallel-item {display: flex;flex-direction: column;z-index: 1;position: relative;background-color: white;}#sk-container-id-15 div.sk-parallel-item:first-child::after {align-self: flex-end;width: 50%;}#sk-container-id-15 div.sk-parallel-item:last-child::after {align-self: flex-start;width: 50%;}#sk-container-id-15 div.sk-parallel-item:only-child::after {width: 0;}#sk-container-id-15 div.sk-dashed-wrapped {border: 1px dashed gray;margin: 0 0.4em 0.5em 0.4em;box-sizing: border-box;padding-bottom: 0.4em;background-color: white;}#sk-container-id-15 div.sk-label label {font-family: monospace;font-weight: bold;display: inline-block;line-height: 1.2em;}#sk-container-id-15 div.sk-label-container {text-align: center;}#sk-container-id-15 div.sk-container {/* jupyter's `normalize.less` sets `[hidden] { display: none; }` but bootstrap.min.css set `[hidden] { display: none !important; }` so we also need the `!important` here to be able to override the default hidden behavior on the sphinx rendered scikit-learn.org. See: https://github.com/scikit-learn/scikit-learn/issues/21755 */display: inline-block !important;position: relative;}#sk-container-id-15 div.sk-text-repr-fallback {display: none;}</style><div id=\"sk-container-id-15\" class=\"sk-top-container\"><div class=\"sk-text-repr-fallback\"><pre>LinearRegression()</pre><b>In a Jupyter environment, please rerun this cell to show the HTML representation or trust the notebook. <br />On GitHub, the HTML representation is unable to render, please try loading this page with nbviewer.org.</b></div><div class=\"sk-container\" hidden><div class=\"sk-item\"><div class=\"sk-estimator sk-toggleable\"><input class=\"sk-toggleable__control sk-hidden--visually\" id=\"sk-estimator-id-15\" type=\"checkbox\" checked><label for=\"sk-estimator-id-15\" class=\"sk-toggleable__label sk-toggleable__label-arrow\">LinearRegression</label><div class=\"sk-toggleable__content\"><pre>LinearRegression()</pre></div></div></div></div></div>"
            ]
          },
          "metadata": {},
          "execution_count": 738
        }
      ]
    },
    {
      "cell_type": "code",
      "source": [
        "y_pred = model.predict(x_test)\n",
        "y_pred"
      ],
      "metadata": {
        "colab": {
          "base_uri": "https://localhost:8080/"
        },
        "id": "dQw_c_B797ZE",
        "outputId": "7f94e6e7-17fd-4dd3-8ef8-4a1cefc08c6a"
      },
      "execution_count": null,
      "outputs": [
        {
          "output_type": "execute_result",
          "data": {
            "text/plain": [
              "array([129.61211365, 120.45819881, 129.95326024, 128.44240221,\n",
              "       120.91389793, 119.50344517, 119.08322942, 120.15653021,\n",
              "       121.06439064, 129.4293318 , 130.42356342, 129.21779861,\n",
              "       129.1495693 , 120.12116004, 130.00745548, 119.95914429,\n",
              "       119.93780819, 130.02148955, 119.75091853, 119.76540939])"
            ]
          },
          "metadata": {},
          "execution_count": 739
        }
      ]
    },
    {
      "cell_type": "markdown",
      "source": [
        "Mostrar o y_test e y_pred para verificar o quão bem o modelo está perfomando"
      ],
      "metadata": {
        "id": "pK_sBUC59SIT"
      }
    },
    {
      "cell_type": "code",
      "source": [
        "y_pred[18]"
      ],
      "metadata": {
        "colab": {
          "base_uri": "https://localhost:8080/"
        },
        "id": "D8RIoeve6ISr",
        "outputId": "bf8758be-49d7-4d91-dda8-5f74d68a1ec0"
      },
      "execution_count": null,
      "outputs": [
        {
          "output_type": "execute_result",
          "data": {
            "text/plain": [
              "119.75091852661961"
            ]
          },
          "metadata": {},
          "execution_count": 740
        }
      ]
    },
    {
      "cell_type": "code",
      "source": [
        "y_test[18]"
      ],
      "metadata": {
        "colab": {
          "base_uri": "https://localhost:8080/"
        },
        "id": "yjE3pGw96SP9",
        "outputId": "d385d320-cbce-4104-f6f3-bf3ff2dfb75d"
      },
      "execution_count": null,
      "outputs": [
        {
          "output_type": "execute_result",
          "data": {
            "text/plain": [
              "117"
            ]
          },
          "metadata": {},
          "execution_count": 741
        }
      ]
    },
    {
      "cell_type": "markdown",
      "source": [
        "# Testing the model"
      ],
      "metadata": {
        "id": "d4EJ-oMy9vDk"
      }
    },
    {
      "cell_type": "markdown",
      "source": [
        "Usando os valores abaixo para fazer uma nova predição:\n",
        "* Sex: Male (0)\n",
        "* Age: 53\n",
        "* Weight: 198\n",
        "* Smoker: 0 (non-smoker)"
      ],
      "metadata": {
        "id": "zYRlCNY7-Qg4"
      }
    },
    {
      "cell_type": "code",
      "source": [
        "x_new = np.array([0, 53, 198, 0])\n",
        "x_new"
      ],
      "metadata": {
        "colab": {
          "base_uri": "https://localhost:8080/"
        },
        "id": "ulaMEhfb_eza",
        "outputId": "730231fc-0d76-42f4-9acd-fde734cb0bac"
      },
      "execution_count": null,
      "outputs": [
        {
          "output_type": "execute_result",
          "data": {
            "text/plain": [
              "array([  0,  53, 198,   0])"
            ]
          },
          "metadata": {},
          "execution_count": 742
        }
      ]
    },
    {
      "cell_type": "code",
      "source": [
        "y_new = model.predict([x_new])\n",
        "y_new"
      ],
      "metadata": {
        "colab": {
          "base_uri": "https://localhost:8080/"
        },
        "id": "gX-xhalW_u5o",
        "outputId": "e152d9e0-7ae6-4434-def5-6a041a4da830"
      },
      "execution_count": null,
      "outputs": [
        {
          "output_type": "execute_result",
          "data": {
            "text/plain": [
              "array([119.07752417])"
            ]
          },
          "metadata": {},
          "execution_count": 743
        }
      ]
    },
    {
      "cell_type": "markdown",
      "source": [
        "* Sex: Female (1)\n",
        "* Age: 24\n",
        "* Weight: 116\n",
        "* Smoker: 0 (non-smoker)"
      ],
      "metadata": {
        "id": "QXQ6l5HbACq9"
      }
    },
    {
      "cell_type": "code",
      "source": [
        "x_new = np.array([1, 24, 116, 0])\n",
        "x_new"
      ],
      "metadata": {
        "colab": {
          "base_uri": "https://localhost:8080/"
        },
        "id": "RHo8HNDgAK8O",
        "outputId": "2170b6b5-1d7f-431f-f896-be4d6a050b8a"
      },
      "execution_count": null,
      "outputs": [
        {
          "output_type": "execute_result",
          "data": {
            "text/plain": [
              "array([  1,  24, 116,   0])"
            ]
          },
          "metadata": {},
          "execution_count": 744
        }
      ]
    },
    {
      "cell_type": "code",
      "source": [
        "y_new = model.predict([x_new])\n",
        "y_new"
      ],
      "metadata": {
        "colab": {
          "base_uri": "https://localhost:8080/"
        },
        "id": "CrGSk2LUAO9S",
        "outputId": "f2418441-c7f7-4a5a-e397-81924a739a3d"
      },
      "execution_count": null,
      "outputs": [
        {
          "output_type": "execute_result",
          "data": {
            "text/plain": [
              "array([120.61120255])"
            ]
          },
          "metadata": {},
          "execution_count": 745
        }
      ]
    }
  ]
}